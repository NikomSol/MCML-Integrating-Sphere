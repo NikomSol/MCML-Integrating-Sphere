{
 "cells": [
  {
   "cell_type": "code",
   "execution_count": 43,
   "metadata": {},
   "outputs": [],
   "source": [
    "#libraries with ready functions\n",
    "import numpy as np \n",
    "from numba import jit\n",
    "\n",
    "import matplotlib.pyplot as plt\n",
    "%matplotlib notebook\n",
    "\n",
    "import cProfile"
   ]
  },
  {
   "cell_type": "code",
   "execution_count": 59,
   "metadata": {},
   "outputs": [],
   "source": [
    "class Layer:\n",
    "    def __init__(self, depth: float = 10**-3, mu_a: float = 1, mu_s: float = 1, g: float = 1):\n",
    "        self.depth = depth\n",
    "        self.mu_a = mu_a\n",
    "        self.mu_s = mu_s\n",
    "        self.g = g\n",
    "        \n",
    "        mu_t = mu_a + mu_s\n",
    "        self.mu_t = mu_t\n",
    "        self.al = mu_s / mu_t if mu_t!=0 else 0 \n",
    "        \n",
    "    \n",
    "class Sample:\n",
    "     def __init__(self, layers):\n",
    "        self.layers = layers\n",
    "\n",
    "        \n",
    "class Sphere:\n",
    "    def __init__(self, distance_table: list = [0], position: str = \"TR\"):\n",
    "        self.port_diameter = 12.5 * 10**-3\n",
    "        self.sphere_diameter = 0.1\n",
    "        self.distance_table = distance_table\n",
    "        self.position = position\n",
    "\n",
    "\n",
    "class MonteCarlo:\n",
    "    def __init__(self, photon_number: int = 10000):\n",
    "        self.N = photon_number\n",
    "        \n",
    "    @jit(nopython=True)\n",
    "    def calc_mtrs(self, sample, sphere_tr,sphere_rf):\n",
    "        N = self.N\n",
    "        Zt = sphere_tr.distance_table\n",
    "        Zr = sphere_rf.distance_table\n",
    "        Pt = np.zeros(len(Zt))\n",
    "        Pr = np.zeros(len(Zr))\n",
    "        for i in range(N):\n",
    "            \"p = (X,Y,Z,cosX,cosY,cosZ,M)\"\n",
    "            pStart = self.generate(profile = \"Point\")\n",
    "            pEnd = self.evaluate(pStart, save_trace=False)\n",
    "            for j in range(len(Zt)):\n",
    "                if self.check_hit(pEnd,sphere_tr, j):\n",
    "                    Pt[j]+=pEnd[-1]\n",
    "            for j in range(len(Zr)):\n",
    "                if self.check_hit(pEnd,sphere_rf, j):\n",
    "                    Pr[j]+=pEnd[-1]\n",
    "        return  np.vstack([Zt,Pt]), np.vstack([Zr,Pr])\n",
    "            \n",
    "    @jit(nopython=True)\n",
    "    def generate(self, profile: str = \"Point\", w:float = 10**-3):\n",
    "        \"p = (X,Y,Z,cosX,cosY,cosZ,M)\"\n",
    "        return np.array([0,0,0,0,0,1,1])\n",
    "    \n",
    "    @jit(nopython=True)\n",
    "    def evaluate(self, pStart, save_trace:bool = False):\n",
    "        return pStart\n",
    "    \n",
    "    @jit(nopython=True)\n",
    "    def check_hit(self, p, detector, position_number):\n",
    "        return True"
   ]
  },
  {
   "cell_type": "code",
   "execution_count": 60,
   "metadata": {},
   "outputs": [
    {
     "ename": "TypingError",
     "evalue": "Failed in nopython mode pipeline (step: nopython frontend)\n\u001b[1m\u001b[1mnon-precise type pyobject\u001b[0m\n\u001b[0m\u001b[1mDuring: typing of argument at C:\\Users\\nikom\\AppData\\Local\\Temp\\ipykernel_2312\\3330738798.py (32)\u001b[0m\n\u001b[1m\nFile \"C:\\Users\\nikom\\AppData\\Local\\Temp\\ipykernel_2312\\3330738798.py\", line 32:\u001b[0m\n\u001b[1m    def calc_mtrs(self, sample, sphere_tr,sphere_rf):\n\u001b[1m        N = self.N\n\u001b[0m        \u001b[1m^\u001b[0m\u001b[0m \n\nThis error may have been caused by the following argument(s):\n- argument 0: \u001b[1mCannot determine Numba type of <class '__main__.MonteCarlo'>\u001b[0m\n- argument 1: \u001b[1mCannot determine Numba type of <class '__main__.Sample'>\u001b[0m\n- argument 2: \u001b[1mCannot determine Numba type of <class '__main__.Sphere'>\u001b[0m\n- argument 3: \u001b[1mCannot determine Numba type of <class '__main__.Sphere'>\u001b[0m\n",
     "output_type": "error",
     "traceback": [
      "\u001b[1;31m---------------------------------------------------------------------------\u001b[0m",
      "\u001b[1;31mTypingError\u001b[0m                               Traceback (most recent call last)",
      "Input \u001b[1;32mIn [60]\u001b[0m, in \u001b[0;36m<cell line: 12>\u001b[1;34m()\u001b[0m\n\u001b[0;32m      7\u001b[0m sphere_rf \u001b[38;5;241m=\u001b[39m Sphere(distance_table \u001b[38;5;241m=\u001b[39m [\u001b[38;5;241m0\u001b[39m,\u001b[38;5;241m1\u001b[39m,\u001b[38;5;241m2\u001b[39m,\u001b[38;5;241m4\u001b[39m,\u001b[38;5;241m8\u001b[39m,\u001b[38;5;241m16\u001b[39m], position \u001b[38;5;241m=\u001b[39m \u001b[38;5;124m\"\u001b[39m\u001b[38;5;124mRF\u001b[39m\u001b[38;5;124m\"\u001b[39m)\n\u001b[0;32m     10\u001b[0m mc \u001b[38;5;241m=\u001b[39m MonteCarlo(photon_number \u001b[38;5;241m=\u001b[39m \u001b[38;5;241m1000\u001b[39m)\n\u001b[1;32m---> 12\u001b[0m PZt, PZr \u001b[38;5;241m=\u001b[39m \u001b[43mmc\u001b[49m\u001b[38;5;241;43m.\u001b[39;49m\u001b[43mcalc_mtrs\u001b[49m\u001b[43m(\u001b[49m\u001b[43msample\u001b[49m\u001b[43m,\u001b[49m\u001b[43m \u001b[49m\u001b[43msphere_tr\u001b[49m\u001b[43m,\u001b[49m\u001b[43msphere_rf\u001b[49m\u001b[43m)\u001b[49m\n",
      "File \u001b[1;32mD:\\Programm\\Anaconda\\lib\\site-packages\\numba\\core\\dispatcher.py:468\u001b[0m, in \u001b[0;36m_DispatcherBase._compile_for_args\u001b[1;34m(self, *args, **kws)\u001b[0m\n\u001b[0;32m    464\u001b[0m         msg \u001b[38;5;241m=\u001b[39m (\u001b[38;5;124mf\u001b[39m\u001b[38;5;124m\"\u001b[39m\u001b[38;5;132;01m{\u001b[39;00m\u001b[38;5;28mstr\u001b[39m(e)\u001b[38;5;241m.\u001b[39mrstrip()\u001b[38;5;132;01m}\u001b[39;00m\u001b[38;5;124m \u001b[39m\u001b[38;5;130;01m\\n\u001b[39;00m\u001b[38;5;130;01m\\n\u001b[39;00m\u001b[38;5;124mThis error may have been caused \u001b[39m\u001b[38;5;124m\"\u001b[39m\n\u001b[0;32m    465\u001b[0m                \u001b[38;5;124mf\u001b[39m\u001b[38;5;124m\"\u001b[39m\u001b[38;5;124mby the following argument(s):\u001b[39m\u001b[38;5;130;01m\\n\u001b[39;00m\u001b[38;5;132;01m{\u001b[39;00margs_str\u001b[38;5;132;01m}\u001b[39;00m\u001b[38;5;130;01m\\n\u001b[39;00m\u001b[38;5;124m\"\u001b[39m)\n\u001b[0;32m    466\u001b[0m         e\u001b[38;5;241m.\u001b[39mpatch_message(msg)\n\u001b[1;32m--> 468\u001b[0m     \u001b[43merror_rewrite\u001b[49m\u001b[43m(\u001b[49m\u001b[43me\u001b[49m\u001b[43m,\u001b[49m\u001b[43m \u001b[49m\u001b[38;5;124;43m'\u001b[39;49m\u001b[38;5;124;43mtyping\u001b[39;49m\u001b[38;5;124;43m'\u001b[39;49m\u001b[43m)\u001b[49m\n\u001b[0;32m    469\u001b[0m \u001b[38;5;28;01mexcept\u001b[39;00m errors\u001b[38;5;241m.\u001b[39mUnsupportedError \u001b[38;5;28;01mas\u001b[39;00m e:\n\u001b[0;32m    470\u001b[0m     \u001b[38;5;66;03m# Something unsupported is present in the user code, add help info\u001b[39;00m\n\u001b[0;32m    471\u001b[0m     error_rewrite(e, \u001b[38;5;124m'\u001b[39m\u001b[38;5;124munsupported_error\u001b[39m\u001b[38;5;124m'\u001b[39m)\n",
      "File \u001b[1;32mD:\\Programm\\Anaconda\\lib\\site-packages\\numba\\core\\dispatcher.py:409\u001b[0m, in \u001b[0;36m_DispatcherBase._compile_for_args.<locals>.error_rewrite\u001b[1;34m(e, issue_type)\u001b[0m\n\u001b[0;32m    407\u001b[0m     \u001b[38;5;28;01mraise\u001b[39;00m e\n\u001b[0;32m    408\u001b[0m \u001b[38;5;28;01melse\u001b[39;00m:\n\u001b[1;32m--> 409\u001b[0m     \u001b[38;5;28;01mraise\u001b[39;00m e\u001b[38;5;241m.\u001b[39mwith_traceback(\u001b[38;5;28;01mNone\u001b[39;00m)\n",
      "\u001b[1;31mTypingError\u001b[0m: Failed in nopython mode pipeline (step: nopython frontend)\n\u001b[1m\u001b[1mnon-precise type pyobject\u001b[0m\n\u001b[0m\u001b[1mDuring: typing of argument at C:\\Users\\nikom\\AppData\\Local\\Temp\\ipykernel_2312\\3330738798.py (32)\u001b[0m\n\u001b[1m\nFile \"C:\\Users\\nikom\\AppData\\Local\\Temp\\ipykernel_2312\\3330738798.py\", line 32:\u001b[0m\n\u001b[1m    def calc_mtrs(self, sample, sphere_tr,sphere_rf):\n\u001b[1m        N = self.N\n\u001b[0m        \u001b[1m^\u001b[0m\u001b[0m \n\nThis error may have been caused by the following argument(s):\n- argument 0: \u001b[1mCannot determine Numba type of <class '__main__.MonteCarlo'>\u001b[0m\n- argument 1: \u001b[1mCannot determine Numba type of <class '__main__.Sample'>\u001b[0m\n- argument 2: \u001b[1mCannot determine Numba type of <class '__main__.Sphere'>\u001b[0m\n- argument 3: \u001b[1mCannot determine Numba type of <class '__main__.Sphere'>\u001b[0m\n"
     ]
    }
   ],
   "source": [
    "sample = Sample([\n",
    "    Layer(depth = 10**-3, mu_a = 0, mu_s = 0, g = 1),\n",
    "    Layer(depth=10**-3, mu_a = 1000, mu_s = 100, g = 0.98),\n",
    "    Layer(depth=10**-3, mu_a = 0, mu_s = 0, g = 1)])\n",
    "\n",
    "sphere_tr = Sphere(distance_table = [0,1,2,4,8,16], position = \"TR\")\n",
    "sphere_rf = Sphere(distance_table = [0,1,2,4,8,16], position = \"RF\")\n",
    "\n",
    "\n",
    "mc = MonteCarlo(photon_number = 1000)\n",
    "\n",
    "PZt, PZr = mc.calc_mtrs(sample, sphere_tr,sphere_rf)"
   ]
  },
  {
   "cell_type": "code",
   "execution_count": null,
   "metadata": {},
   "outputs": [],
   "source": [
    "PZt"
   ]
  },
  {
   "cell_type": "code",
   "execution_count": 61,
   "metadata": {},
   "outputs": [],
   "source": [
    "class Num:\n",
    "    @jit(nopython=True)\n",
    "    def __init__(self):\n",
    "        self.a = 1"
   ]
  },
  {
   "cell_type": "code",
   "execution_count": 62,
   "metadata": {},
   "outputs": [
    {
     "ename": "TypingError",
     "evalue": "Failed in nopython mode pipeline (step: nopython frontend)\n\u001b[1m\u001b[1mnon-precise type pyobject\u001b[0m\n\u001b[0m\u001b[1mDuring: typing of argument at C:\\Users\\nikom\\AppData\\Local\\Temp\\ipykernel_2312\\2437829466.py (4)\u001b[0m\n\u001b[1m\nFile \"C:\\Users\\nikom\\AppData\\Local\\Temp\\ipykernel_2312\\2437829466.py\", line 4:\u001b[0m\n\u001b[1m    def __init__(self):\n\u001b[1m        self.a = 1\n\u001b[0m        \u001b[1m^\u001b[0m\u001b[0m \n\nThis error may have been caused by the following argument(s):\n- argument 0: \u001b[1mCannot determine Numba type of <class '__main__.Num'>\u001b[0m\n",
     "output_type": "error",
     "traceback": [
      "\u001b[1;31m---------------------------------------------------------------------------\u001b[0m",
      "\u001b[1;31mTypingError\u001b[0m                               Traceback (most recent call last)",
      "Input \u001b[1;32mIn [62]\u001b[0m, in \u001b[0;36m<cell line: 1>\u001b[1;34m()\u001b[0m\n\u001b[1;32m----> 1\u001b[0m \u001b[43mNum\u001b[49m\u001b[43m(\u001b[49m\u001b[43m)\u001b[49m\n",
      "File \u001b[1;32mD:\\Programm\\Anaconda\\lib\\site-packages\\numba\\core\\dispatcher.py:468\u001b[0m, in \u001b[0;36m_DispatcherBase._compile_for_args\u001b[1;34m(self, *args, **kws)\u001b[0m\n\u001b[0;32m    464\u001b[0m         msg \u001b[38;5;241m=\u001b[39m (\u001b[38;5;124mf\u001b[39m\u001b[38;5;124m\"\u001b[39m\u001b[38;5;132;01m{\u001b[39;00m\u001b[38;5;28mstr\u001b[39m(e)\u001b[38;5;241m.\u001b[39mrstrip()\u001b[38;5;132;01m}\u001b[39;00m\u001b[38;5;124m \u001b[39m\u001b[38;5;130;01m\\n\u001b[39;00m\u001b[38;5;130;01m\\n\u001b[39;00m\u001b[38;5;124mThis error may have been caused \u001b[39m\u001b[38;5;124m\"\u001b[39m\n\u001b[0;32m    465\u001b[0m                \u001b[38;5;124mf\u001b[39m\u001b[38;5;124m\"\u001b[39m\u001b[38;5;124mby the following argument(s):\u001b[39m\u001b[38;5;130;01m\\n\u001b[39;00m\u001b[38;5;132;01m{\u001b[39;00margs_str\u001b[38;5;132;01m}\u001b[39;00m\u001b[38;5;130;01m\\n\u001b[39;00m\u001b[38;5;124m\"\u001b[39m)\n\u001b[0;32m    466\u001b[0m         e\u001b[38;5;241m.\u001b[39mpatch_message(msg)\n\u001b[1;32m--> 468\u001b[0m     \u001b[43merror_rewrite\u001b[49m\u001b[43m(\u001b[49m\u001b[43me\u001b[49m\u001b[43m,\u001b[49m\u001b[43m \u001b[49m\u001b[38;5;124;43m'\u001b[39;49m\u001b[38;5;124;43mtyping\u001b[39;49m\u001b[38;5;124;43m'\u001b[39;49m\u001b[43m)\u001b[49m\n\u001b[0;32m    469\u001b[0m \u001b[38;5;28;01mexcept\u001b[39;00m errors\u001b[38;5;241m.\u001b[39mUnsupportedError \u001b[38;5;28;01mas\u001b[39;00m e:\n\u001b[0;32m    470\u001b[0m     \u001b[38;5;66;03m# Something unsupported is present in the user code, add help info\u001b[39;00m\n\u001b[0;32m    471\u001b[0m     error_rewrite(e, \u001b[38;5;124m'\u001b[39m\u001b[38;5;124munsupported_error\u001b[39m\u001b[38;5;124m'\u001b[39m)\n",
      "File \u001b[1;32mD:\\Programm\\Anaconda\\lib\\site-packages\\numba\\core\\dispatcher.py:409\u001b[0m, in \u001b[0;36m_DispatcherBase._compile_for_args.<locals>.error_rewrite\u001b[1;34m(e, issue_type)\u001b[0m\n\u001b[0;32m    407\u001b[0m     \u001b[38;5;28;01mraise\u001b[39;00m e\n\u001b[0;32m    408\u001b[0m \u001b[38;5;28;01melse\u001b[39;00m:\n\u001b[1;32m--> 409\u001b[0m     \u001b[38;5;28;01mraise\u001b[39;00m e\u001b[38;5;241m.\u001b[39mwith_traceback(\u001b[38;5;28;01mNone\u001b[39;00m)\n",
      "\u001b[1;31mTypingError\u001b[0m: Failed in nopython mode pipeline (step: nopython frontend)\n\u001b[1m\u001b[1mnon-precise type pyobject\u001b[0m\n\u001b[0m\u001b[1mDuring: typing of argument at C:\\Users\\nikom\\AppData\\Local\\Temp\\ipykernel_2312\\2437829466.py (4)\u001b[0m\n\u001b[1m\nFile \"C:\\Users\\nikom\\AppData\\Local\\Temp\\ipykernel_2312\\2437829466.py\", line 4:\u001b[0m\n\u001b[1m    def __init__(self):\n\u001b[1m        self.a = 1\n\u001b[0m        \u001b[1m^\u001b[0m\u001b[0m \n\nThis error may have been caused by the following argument(s):\n- argument 0: \u001b[1mCannot determine Numba type of <class '__main__.Num'>\u001b[0m\n"
     ]
    }
   ],
   "source": [
    "Num()"
   ]
  },
  {
   "cell_type": "code",
   "execution_count": null,
   "metadata": {},
   "outputs": [],
   "source": []
  }
 ],
 "metadata": {
  "kernelspec": {
   "display_name": "Python 3 (ipykernel)",
   "language": "python",
   "name": "python3"
  },
  "language_info": {
   "codemirror_mode": {
    "name": "ipython",
    "version": 3
   },
   "file_extension": ".py",
   "mimetype": "text/x-python",
   "name": "python",
   "nbconvert_exporter": "python",
   "pygments_lexer": "ipython3",
   "version": "3.9.12"
  }
 },
 "nbformat": 4,
 "nbformat_minor": 2
}
