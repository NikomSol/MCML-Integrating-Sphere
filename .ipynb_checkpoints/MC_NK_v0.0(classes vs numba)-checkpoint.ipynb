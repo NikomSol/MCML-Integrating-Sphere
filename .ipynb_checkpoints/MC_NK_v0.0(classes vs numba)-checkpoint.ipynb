{
 "cells": [
  {
   "cell_type": "code",
   "execution_count": 43,
   "metadata": {},
   "outputs": [],
   "source": [
    "#libraries with ready functions\n",
    "import numpy as np \n",
    "from numba import jit\n",
    "\n",
    "import matplotlib.pyplot as plt\n",
    "%matplotlib notebook\n",
    "\n",
    "import cProfile"
   ]
  },
  {
   "cell_type": "code",
   "execution_count": 51,
   "metadata": {},
   "outputs": [],
   "source": [
    "class Layer:\n",
    "    def __init__(self, depth: float = 10**-3, mu_a: float = 1, mu_s: float = 1, g: float = 1):\n",
    "        self.depth = depth\n",
    "        self.mu_a = mu_a\n",
    "        self.mu_s = mu_s\n",
    "        self.g = g\n",
    "        \n",
    "        mu_t = mu_a + mu_s\n",
    "        self.mu_t = mu_t\n",
    "        self.al = mu_s / mu_t if mu_t!=0 else 0 \n",
    "        \n",
    "    \n",
    "class Sample:\n",
    "     def __init__(self, layers):\n",
    "        self.layers = layers\n",
    "\n",
    "        \n",
    "class Sphere:\n",
    "    def __init__(self, distance_table: list = [0], position: str = \"TR\"):\n",
    "        self.port_diameter = 12.5 * 10**-3\n",
    "        self.sphere_diameter = 0.1\n",
    "        self.distance_table = distance_table\n",
    "        self.position = position\n",
    "\n",
    "        \n",
    "class MonteCarlo:\n",
    "    def __init__(self, photon_number: int = 10000):\n",
    "        self.N = photon_number\n",
    "        \n",
    "    def calc_mtrs(self, sample, sphere_tr,sphere_rf):\n",
    "        N = self.N\n",
    "        Zt = sphere_tr.distance_table\n",
    "        Zr = sphere_rf.distance_table\n",
    "        Pt = np.zeros(len(Zt))\n",
    "        Pr = np.zeros(len(Zr))\n",
    "        for i in range(N):\n",
    "            \"p = (X,Y,Z,cosX,cosY,cosZ,M)\"\n",
    "            pStart = self.generate(profile = \"Point\")\n",
    "            pEnd = self.evaluate(pStart, save_trace=False)\n",
    "            for j in range(len(Zt)):\n",
    "                if self.check_hit(pEnd,sphere_tr, j):\n",
    "                    Pt[j]+=pEnd[-1]\n",
    "            for j in range(len(Zr)):\n",
    "                if self.check_hit(pEnd,sphere_rf, j):\n",
    "                    Pr[j]+=pEnd[-1]\n",
    "        return  np.vstack([Zt,Pt]), np.vstack([Zr,Pr])\n",
    "            \n",
    "    def generate(self, profile: str = \"Point\", w:float = 10**-3):\n",
    "        \"p = (X,Y,Z,cosX,cosY,cosZ,M)\"\n",
    "        return np.array([0,0,0,0,0,1,1])\n",
    "    \n",
    "    def evaluate(self, pStart, save_trace:bool = False):\n",
    "        return pStart\n",
    "    \n",
    "    def check_hit(self, p, detector, position_number):\n",
    "        return True"
   ]
  },
  {
   "cell_type": "code",
   "execution_count": 57,
   "metadata": {},
   "outputs": [],
   "source": [
    "sample = Sample([\n",
    "    Layer(depth = 10**-3, mu_a = 0, mu_s = 0, g = 1),\n",
    "    Layer(depth=10**-3, mu_a = 1000, mu_s = 100, g = 0.98),\n",
    "    Layer(depth=10**-3, mu_a = 0, mu_s = 0, g = 1)])\n",
    "\n",
    "sphere_tr = Sphere(distance_table = [0,1,2,4,8,16], position = \"TR\")\n",
    "sphere_rf = Sphere(distance_table = [0,1,2,4,8,16], position = \"RF\")\n",
    "\n",
    "\n",
    "mc = MonteCarlo(photon_number = 1000)\n",
    "\n",
    "PZt, PZr = mc.calc_mtrs(sample, sphere_tr,sphere_rf)"
   ]
  },
  {
   "cell_type": "code",
   "execution_count": 58,
   "metadata": {},
   "outputs": [
    {
     "data": {
      "text/plain": [
       "array([[   0.,    1.,    2.,    4.,    8.,   16.],\n",
       "       [1000., 1000., 1000., 1000., 1000., 1000.]])"
      ]
     },
     "execution_count": 58,
     "metadata": {},
     "output_type": "execute_result"
    }
   ],
   "source": [
    "PZt"
   ]
  },
  {
   "cell_type": "code",
   "execution_count": null,
   "metadata": {},
   "outputs": [],
   "source": []
  }
 ],
 "metadata": {
  "kernelspec": {
   "display_name": "Python 3 (ipykernel)",
   "language": "python",
   "name": "python3"
  },
  "language_info": {
   "codemirror_mode": {
    "name": "ipython",
    "version": 3
   },
   "file_extension": ".py",
   "mimetype": "text/x-python",
   "name": "python",
   "nbconvert_exporter": "python",
   "pygments_lexer": "ipython3",
   "version": "3.9.12"
  }
 },
 "nbformat": 4,
 "nbformat_minor": 2
}
