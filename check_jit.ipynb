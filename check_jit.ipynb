{
 "cells": [
  {
   "cell_type": "code",
   "execution_count": 4,
   "metadata": {},
   "outputs": [],
   "source": [
    "import numpy as np \n",
    "from numba import jit"
   ]
  },
  {
   "cell_type": "code",
   "execution_count": 5,
   "metadata": {},
   "outputs": [],
   "source": [
    "@jit(nopython=True)\n",
    "def turn(old_p, g):\n",
    "    p = old_p * 1.\n",
    "    th = np.arccos(1/2/g*(1+g**2-((1-g**2)/(1-g+2*g*np.random.random(1)[0]))**2))\n",
    "    ph = 2*np.pi*np.random.random(1)[0]\n",
    "    \n",
    "    sin_th = np.sin(th)\n",
    "    cos_th = np.cos(th)\n",
    "    sin_ph = np.sin(ph)\n",
    "    cos_ph = np.cos(ph)\n",
    "    \n",
    "    if p[5] != 1. and p[5] != -1.:\n",
    "        cx = (sin_th*(p[3]*p[5]*cos_ph-p[4]*sin_ph))/(np.sqrt(1-p[5]**2))+p[3]*cos_th\n",
    "        cy = (sin_th*(p[4]*p[5]*cos_ph+p[3]*sin_ph))/(np.sqrt(1-p[5]**2))+p[4]*cos_th\n",
    "        cz = -(np.sqrt(1-p[5]**2))*sin_th*cos_ph+p[5]*cos_th\n",
    "    if p[5] == 1.:\n",
    "        cx = sin_th*cos_ph\n",
    "        cy = sin_th*sin_ph\n",
    "        cz = cos_th\n",
    "    if p[5] == -1.:\n",
    "        cx = sin_th*cos_ph\n",
    "        cy = -sin_th*sin_ph\n",
    "        cz = -cos_th\n",
    "\n",
    "    p[3] = cx\n",
    "    p[4] = cy\n",
    "    p[5] = cz\n",
    "\n",
    "    return p"
   ]
  },
  {
   "cell_type": "code",
   "execution_count": 6,
   "metadata": {},
   "outputs": [
    {
     "data": {
      "text/plain": [
       "array([ 0.        ,  0.        ,  0.        , -0.05969722,  0.06082445,\n",
       "        0.99636167,  1.        ,  1.        ])"
      ]
     },
     "execution_count": 6,
     "metadata": {},
     "output_type": "execute_result"
    }
   ],
   "source": [
    "turn(np.array([ 0.        ,  0.        ,  0.        , -0.0279796 ,  0.00440628,\n",
    "        0.99959878,  1.        ,  1.        ]), 0.98)"
   ]
  }
 ],
 "metadata": {
  "kernelspec": {
   "display_name": "base",
   "language": "python",
   "name": "python3"
  },
  "language_info": {
   "codemirror_mode": {
    "name": "ipython",
    "version": 3
   },
   "file_extension": ".py",
   "mimetype": "text/x-python",
   "name": "python",
   "nbconvert_exporter": "python",
   "pygments_lexer": "ipython3",
   "version": "3.9.12"
  },
  "orig_nbformat": 4,
  "vscode": {
   "interpreter": {
    "hash": "f857d427358718d66449f7ffcefee21649585f7f6be60671c1fc26c7917f3531"
   }
  }
 },
 "nbformat": 4,
 "nbformat_minor": 2
}
