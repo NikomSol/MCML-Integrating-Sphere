{
 "cells": [
  {
   "cell_type": "raw",
   "id": "f3fa8cb4",
   "metadata": {},
   "source": [
    "import numpy as np \n",
    "from scipy.optimize import minimize\n",
    "from scipy.optimize import curve_fit\n",
    "\n",
    "from numba import jit\n",
    "\n",
    "import matplotlib.pyplot as plt\n",
    "# %matplotlib notebook\n",
    "\n",
    "import cProfile\n",
    "#@jit(nopython=True)"
   ]
  },
  {
   "cell_type": "code",
   "execution_count": 21,
   "id": "69f5fa17",
   "metadata": {},
   "outputs": [
    {
     "name": "stdout",
     "output_type": "stream",
     "text": [
      "Optimization terminated successfully.\n",
      "         Current function value: 10.000000\n",
      "         Iterations: 33\n",
      "         Function evaluations: 68\n"
     ]
    }
   ],
   "source": [
    "# https://scipy.github.io/devdocs/tutorial/optimize.html#nelder-mead-simplex-algorithm-method-nelder-mead\n",
    "def func(x,x0,y0):\n",
    "    return y0+(x-x0)**2\n",
    "\n",
    "x0 = 10\n",
    "res = minimize(func, x0, method='nelder-mead',\n",
    "               args=(1, 10), options={'xatol': 1e-8, 'disp': True})"
   ]
  },
  {
   "cell_type": "code",
   "execution_count": 22,
   "id": "8ba09dd4",
   "metadata": {},
   "outputs": [
    {
     "data": {
      "text/plain": [
       "array([1.])"
      ]
     },
     "execution_count": 22,
     "metadata": {},
     "output_type": "execute_result"
    }
   ],
   "source": [
    "res.x"
   ]
  },
  {
   "cell_type": "code",
   "execution_count": 33,
   "id": "dedd63fe",
   "metadata": {},
   "outputs": [],
   "source": [
    "#https://docs.scipy.org/doc/scipy/reference/generated/scipy.optimize.curve_fit.html\n",
    "def func(x, a, b, c):\n",
    "    return a * np.exp(-b * x) + c\n",
    "\n",
    "xdata = np.linspace(0, 4, 50)\n",
    "y = func(xdata, 2.5, 1.3, 0.5)\n",
    "rng = np.random.default_rng()\n",
    "y_noise = 0.2 * rng.normal(size=xdata.size)\n",
    "ydata = y + y_noise"
   ]
  },
  {
   "cell_type": "code",
   "execution_count": 43,
   "id": "e1530661",
   "metadata": {},
   "outputs": [
    {
     "name": "stdout",
     "output_type": "stream",
     "text": [
      "[2.76983329 1.44283891 0.45365001]\n",
      "[0.10506757 0.11299426 0.04103641]\n"
     ]
    }
   ],
   "source": [
    "p_opt, p_cov = curve_fit(func, xdata, ydata, bounds=(-np.inf, [3.5, 1.5, 0.5]))\n",
    "print(p_opt)\n",
    "print(np.sqrt(np.diag(p_cov)))"
   ]
  },
  {
   "cell_type": "code",
   "execution_count": 44,
   "id": "1c1c39c3",
   "metadata": {},
   "outputs": [
    {
     "data": {
      "image/png": "[encoded data removed]",
      "text/plain": [
       "<Figure size 432x288 with 1 Axes>"
      ]
     },
     "metadata": {
      "needs_background": "light"
     },
     "output_type": "display_data"
    }
   ],
   "source": [
    "plt.plot(xdata, ydata, 'b-', label='data')\n",
    "plt.plot(xdata, func(xdata, *p_opt), 'r-',\n",
    "         label='fit: a=%5.3f, b=%5.3f, c=%5.3f' % tuple(popt))\n",
    "plt.show()"
   ]
  },
  {
   "cell_type": "code",
   "execution_count": null,
   "id": "a6bf6e21",
   "metadata": {},
   "outputs": [],
   "source": []
  }
 ],
 "metadata": {
  "kernelspec": {
   "display_name": "Python 3 (ipykernel)",
   "language": "python",
   "name": "python3"
  },
  "language_info": {
   "codemirror_mode": {
    "name": "ipython",
    "version": 3
   },
   "file_extension": ".py",
   "mimetype": "text/x-python",
   "name": "python",
   "nbconvert_exporter": "python",
   "pygments_lexer": "ipython3",
   "version": "3.9.12"
  }
 },
 "nbformat": 4,
 "nbformat_minor": 5
}
